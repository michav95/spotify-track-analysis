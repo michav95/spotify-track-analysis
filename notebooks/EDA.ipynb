{
 "cells": [
  {
   "cell_type": "code",
   "execution_count": 22,
   "metadata": {},
   "outputs": [
    {
     "ename": "ModuleNotFoundError",
     "evalue": "No module named 'pandas'",
     "output_type": "error",
     "traceback": [
      "\u001b[0;31m---------------------------------------------------------------------------\u001b[0m",
      "\u001b[0;31mModuleNotFoundError\u001b[0m                       Traceback (most recent call last)",
      "Cell \u001b[0;32mIn[22], line 1\u001b[0m\n\u001b[0;32m----> 1\u001b[0m \u001b[38;5;28;01mimport\u001b[39;00m \u001b[38;5;21;01mpandas\u001b[39;00m \u001b[38;5;28;01mas\u001b[39;00m \u001b[38;5;21;01mpd\u001b[39;00m\n\u001b[1;32m      2\u001b[0m \u001b[38;5;28;01mimport\u001b[39;00m \u001b[38;5;21;01mplotly\u001b[39;00m\u001b[38;5;21;01m.\u001b[39;00m\u001b[38;5;21;01mexpress\u001b[39;00m \u001b[38;5;28;01mas\u001b[39;00m \u001b[38;5;21;01mpx\u001b[39;00m\n",
      "\u001b[0;31mModuleNotFoundError\u001b[0m: No module named 'pandas'"
     ]
    }
   ],
   "source": [
    "import pandas as pd\n",
    "import plotly.express as px"
   ]
  },
  {
   "cell_type": "code",
   "execution_count": null,
   "metadata": {},
   "outputs": [],
   "source": [
    "data = pd.read_csv(\"dataset.csv\")"
   ]
  },
  {
   "cell_type": "code",
   "execution_count": null,
   "metadata": {},
   "outputs": [],
   "source": [
    "data = data.drop(data.index[[0,1]])\n",
    "del data['Unnamed: 0']\n",
    "print(data.info())"
   ]
  },
  {
   "cell_type": "code",
   "execution_count": null,
   "metadata": {},
   "outputs": [],
   "source": [
    "print(data.head(10))"
   ]
  },
  {
   "cell_type": "code",
   "execution_count": null,
   "metadata": {},
   "outputs": [],
   "source": [
    "print(data.describe())"
   ]
  },
  {
   "cell_type": "code",
   "execution_count": null,
   "metadata": {},
   "outputs": [],
   "source": [
    "print(data.isna().sum())"
   ]
  },
  {
   "cell_type": "code",
   "execution_count": null,
   "metadata": {},
   "outputs": [],
   "source": [
    "print(data.duplicated().sum())"
   ]
  },
  {
   "cell_type": "code",
   "execution_count": null,
   "metadata": {},
   "outputs": [],
   "source": [
    "artist_counts = data['artists'].value_counts().reset_index()\n",
    "artist_counts.columns = ['artists', 'count']\n",
    "top_artists = artist_counts.head(20)\n",
    "print(top_artists)"
   ]
  },
  {
   "cell_type": "code",
   "execution_count": null,
   "metadata": {},
   "outputs": [],
   "source": [
    "fig = px.histogram(\n",
    "    top_artists,\n",
    "    x='artists',\n",
    "    y='count',\n",
    "    labels={'artists': 'Artist', 'count': 'Frequency of Artists'},\n",
    "    title='Top Artists'\n",
    ")\n",
    "fig.show()"
   ]
  },
  {
   "cell_type": "code",
   "execution_count": null,
   "metadata": {},
   "outputs": [],
   "source": [
    "fig_1 = px.scatter(\n",
    "    top_artists,\n",
    "    x='artists',\n",
    "    y='count',\n",
    "    labels={'artists': 'Artist', 'count': 'Number of Occurrences'},\n",
    "    title='Frequency of Artists'\n",
    ")\n",
    "fig_1.show()"
   ]
  },
  {
   "cell_type": "code",
   "execution_count": null,
   "metadata": {},
   "outputs": [],
   "source": [
    "data_filtered = data[data['popularity'] !=0]\n",
    "popular_counts = data_filtered[['popularity', 'track_name']].value_counts().reset_index()\n",
    "popular_counts.columns = ['popularity','track_name', 'count']\n",
    "print(popular_counts)"
   ]
  },
  {
   "cell_type": "code",
   "execution_count": null,
   "metadata": {},
   "outputs": [],
   "source": [
    "# Sort and take only the top 20 songs\n",
    "popular_songs = popular_counts.head(20)"
   ]
  },
  {
   "cell_type": "code",
   "execution_count": null,
   "metadata": {},
   "outputs": [],
   "source": [
    "# Create the histogram\n",
    "fig_2 = px.histogram(\n",
    "    popular_songs,\n",
    "    x='track_name',\n",
    "    y='count',\n",
    "    labels={'track_name': 'Track Name', 'count': 'Popularity of Track'},\n",
    "    title='Popularity of a Track'\n",
    ")\n",
    "fig_2.update_layout(xaxis_tickangle=-45)\n",
    "fig_2.update_yaxes(range=[0, 50])\n",
    "# Display the plot\n",
    "fig_2.show()"
   ]
  },
  {
   "cell_type": "code",
   "execution_count": null,
   "metadata": {},
   "outputs": [],
   "source": [
    "fig_3 = px.scatter(\n",
    "    popular_songs,\n",
    "    x='track_name',\n",
    "    y='count',\n",
    "    labels={'track_name': 'Track Name', 'count': 'Popularity of Track'},\n",
    "    title='Popularity of a Track'\n",
    ")\n",
    "fig_3.update_layout(xaxis_tickangle=-45)\n",
    "fig_3.update_yaxes(range=[0, 30])\n",
    "fig_3.show()"
   ]
  },
  {
   "cell_type": "code",
   "execution_count": null,
   "metadata": {},
   "outputs": [],
   "source": [
    "popularity_by_genre = data.groupby('track_genre')['popularity'].mean().reset_index()\n",
    "popularity_by_genre.columns = ['track_genre', 'average_popularity']\n",
    "print(popularity_by_genre.head())"
   ]
  },
  {
   "cell_type": "code",
   "execution_count": null,
   "metadata": {},
   "outputs": [],
   "source": [
    "fig_4 = px.histogram(\n",
    "    popularity_by_genre,\n",
    "    x='track_genre',\n",
    "    y='average_popularity',\n",
    "    nbins=30,\n",
    "    labels={'average_popularity': 'Average Popularity'},\n",
    "    title='Distribution of Average Track Popularity by Genre'\n",
    ")\n",
    "fig_4.show()"
   ]
  },
  {
   "cell_type": "code",
   "execution_count": null,
   "metadata": {},
   "outputs": [],
   "source": [
    "fig_5 = px.scatter(\n",
    "    popularity_by_genre,\n",
    "    x='track_genre',\n",
    "    y='average_popularity',\n",
    "    labels={'track_genre': 'Genre', 'average_popularity': 'Average Popularity'},\n",
    "    title='Average Popularity of Tracks by Genre'\n",
    ")\n",
    "fig_5.show()"
   ]
  }
 ],
 "metadata": {
  "kernelspec": {
   "display_name": ".venv",
   "language": "python",
   "name": "python3"
  },
  "language_info": {
   "codemirror_mode": {
    "name": "ipython",
    "version": 3
   },
   "file_extension": ".py",
   "mimetype": "text/x-python",
   "name": "python",
   "nbconvert_exporter": "python",
   "pygments_lexer": "ipython3",
   "version": "3.9.6"
  }
 },
 "nbformat": 4,
 "nbformat_minor": 2
}
